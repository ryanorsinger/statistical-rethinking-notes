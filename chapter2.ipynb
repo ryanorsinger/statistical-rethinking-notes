{
 "cells": [
  {
   "cell_type": "markdown",
   "id": "720435f5",
   "metadata": {},
   "source": [
    "# Chapter 2\n",
    "\n",
    "## Map vs. Terrain\n",
    "- The model is the map. Even a fabulous map ain't ever the terrain. The terrain is reality.\n",
    "\n",
    "## Counting Possibilities\n",
    "- Count possiblities for a given conjecture (or all conjectures)\n",
    "- For-each conjecture, count the ways to produce the observed data (this becomes the `prior counts`)\n",
    "- For-each new observation, count the ways to produce and multiply the ways to produce by the prior counts\n",
    "\n",
    "This updating approach is asserting that:\n",
    "1. When we have previous information suggestiong there are $W_{prior}$ ways for a conjecture to produce a previous observation $D_{prior}$ and\n",
    "2. We acquire new observations $D_{new}$ that the same conjecture can produce in $W_{new}$ ways, then\n",
    "3. The number of ways the conjecture can account for both $D_{prior}$ and $D_{new}$ is the product $W_{prior} * W_{new}$\n",
    "\n",
    "Plausability of $p$ after $D_{new}$ = (ways $p$ can produce $D_{new}$ * prior plausability $p$) / sum of products\n"
   ]
  },
  {
   "cell_type": "markdown",
   "id": "e13d8cc6",
   "metadata": {},
   "source": [
    "> Say we see Blue, White, then Blue from a bag of 4 marbles of blue or white, but we don't know the distribution.\n",
    "\n",
    "\n",
    "| Conjecture | Ways to produce Blue, White, Blue |\n",
    "| ---------- | --------------------------------- |\n",
    "| WWWW       | 0                                 |\n",
    "| BWWW       | 3                                 |\n",
    "| BBWW       | 8                                 |\n",
    "| BBBW       | 9                                 |\n",
    "| BBBB       | 0                                 |\n",
    "\n",
    "Becomes\n",
    "\n",
    "| Possible Combinations | p, which is p(blue) here | Ways to produce data we see ( Blue, White, Blue) | Plausability |\n",
    "| --------------------- | ------------------------ | ------------------------------------------------ | ------------ |\n",
    "| WWWW                  | 0                        | 0                                                | 0            |\n",
    "| BWWW                  | .25                      | 3                                                | .15          |\n",
    "| BBWW                  | .5                       | 8                                                | .4           |\n",
    "| BBBW                  | .75                      | 9                                                | .45          |\n",
    "| BBBB                  | 1                        | 0                                                | 0            |"
   ]
  },
  {
   "cell_type": "code",
   "execution_count": 2,
   "id": "25822c7d",
   "metadata": {},
   "outputs": [
    {
     "data": {
      "text/html": [
       "<style>\n",
       ".list-inline {list-style: none; margin:0; padding: 0}\n",
       ".list-inline>li {display: inline-block}\n",
       ".list-inline>li:not(:last-child)::after {content: \"\\00b7\"; padding: 0 .5ex}\n",
       "</style>\n",
       "<ol class=list-inline><li>0</li><li>0.15</li><li>0.4</li><li>0.45</li><li>0</li></ol>\n"
      ],
      "text/latex": [
       "\\begin{enumerate*}\n",
       "\\item 0\n",
       "\\item 0.15\n",
       "\\item 0.4\n",
       "\\item 0.45\n",
       "\\item 0\n",
       "\\end{enumerate*}\n"
      ],
      "text/markdown": [
       "1. 0\n",
       "2. 0.15\n",
       "3. 0.4\n",
       "4. 0.45\n",
       "5. 0\n",
       "\n",
       "\n"
      ],
      "text/plain": [
       "[1] 0.00 0.15 0.40 0.45 0.00"
      ]
     },
     "metadata": {},
     "output_type": "display_data"
    }
   ],
   "source": [
    "# 0, 3, 8, 9, 0 are the priors, \n",
    "# the number of ways each of the 5 conjectures of combinations of 4 blue or white marbles\n",
    "# All conjectures are: WWWW, BWWW, BBWW, BBBW, BBBB\n",
    "# can produce the sequence Blue, White, Blue\n",
    "ways <- c(0, 3, 8, 9, 0)\n",
    "ways / sum(ways)"
   ]
  },
  {
   "cell_type": "markdown",
   "id": "9e3bbb79",
   "metadata": {},
   "source": [
    "## Key Vocabulary\n",
    "- Unobserved variables are usually called `parameters`. But while `p` itself is unobserved, we can infer it from the other variables.\n",
    "- A conjectured proportion of blue marbles, `p`, is usually called the `parameter` value. It's a way of indexing possible explanations of the data\n",
    "- The relative number of ways that a value `p` can produce the data is usually called a `likelihood`. It is derived by enumerating all the possible data sequences that could have happened and elminating those sequences inconsistent/impossible with the data observed.\n",
    "- The prior plausability of any specific `p` is usually called the `prior probability`\n",
    "- The new, updated plausability of any specific `p` is usually called the `posterior probability`\n",
    "\n",
    "## Counting is Key\n",
    "Consider three different kinds of things we counted in the previous sections.\n",
    "1. The number of ways each conjecture could produce an observation\n",
    "2. The accumulated number of ways each conjecture could produce the entire data.\n",
    "3. The initial plausibility of each conjectured cause of the data"
   ]
  },
  {
   "cell_type": "markdown",
   "id": "546bb913",
   "metadata": {},
   "source": [
    "### With the Water or Land Proportion of the Earth Problem\n",
    "- In this case `p` is the proportion of land to earth. `p` is the unobserved information (the parameter). We can infer `p` from other variables.\n",
    "- We'll call the count of land L and the count of water W\n",
    "- In $N = L + W$ the $N$ is the total number of counts of all observations\n",
    "\n",
    "> Remember, the goal is count all the ways the data could arise, given the assumptions.\n",
    "\n",
    "\n",
    "When someone says, “likelihood,” they might usually mean a distribution function assigned to an observed variable. This is the non-Bayesian definition."
   ]
  },
  {
   "cell_type": "code",
   "execution_count": null,
   "id": "2b59e9a2",
   "metadata": {},
   "outputs": [],
   "source": []
  }
 ],
 "metadata": {
  "kernelspec": {
   "display_name": "R",
   "language": "R",
   "name": "ir"
  },
  "language_info": {
   "codemirror_mode": "r",
   "file_extension": ".r",
   "mimetype": "text/x-r-source",
   "name": "R",
   "pygments_lexer": "r",
   "version": "4.2.1"
  }
 },
 "nbformat": 4,
 "nbformat_minor": 5
}
