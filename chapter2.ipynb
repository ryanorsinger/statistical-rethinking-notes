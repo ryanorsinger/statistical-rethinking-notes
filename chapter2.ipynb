{
 "cells": [
  {
   "cell_type": "markdown",
   "id": "720435f5",
   "metadata": {},
   "source": [
    "# Chapter 2\n",
    "\n",
    "## Map vs. Terrain\n",
    "- The model is the map. Even a fabulous map ain't ever the terrain. The terrain is reality.\n",
    "\n",
    "## Counting Possibilities\n",
    "- Count possiblities for a given conjecture (or all conjectures)\n",
    "- For-each conjecture, count the ways to produce the observed data (this becomes the `prior counts`)\n",
    "- For-each new observation, count the ways to produce and multiply the ways to produce by the prior counts\n",
    "\n",
    "This updating approach is asserting that:\n",
    "1. When we have previous information suggestiong there are $W_{prior}$ ways for a conjecture to produce a previous observation $D_{prior}$ and\n",
    "2. We acquire new observations $D_{new}$ that the same conjecture can produce in $W_{new}$ ways, then\n",
    "3. The number of ways the conjecture can account for both $D_{prior}$ and $D_{new}$ is the product $W_{prior} * W_{new}$\n",
    "\n",
    "Plausability of $p$ after $D_{new}$ = (ways $p$ can produce $D_{new}$ * prior plausability $p$) / sum of products\n"
   ]
  },
  {
   "cell_type": "markdown",
   "id": "e13d8cc6",
   "metadata": {},
   "source": [
    "> Say we see Blue, White, then Blue from a bag of 4 marbles of blue or white, but we don't know the distribution.\n",
    "\n",
    "\n",
    "| Conjecture | Ways to produce Blue, White, Blue |\n",
    "| ---------- | --------------------------------- |\n",
    "| WWWW       | 0                                 |\n",
    "| BWWW       | 3                                 |\n",
    "| BBWW       | 8                                 |\n",
    "| BBBW       | 9                                 |\n",
    "| BBBB       | 0                                 |\n",
    "\n",
    "Becomes\n",
    "\n",
    "| Possible Combinations | p, which is p(blue) here | Ways to produce data we see ( Blue, White, Blue) | Plausability |\n",
    "| --------------------- | ------------------------ | ------------------------------------------------ | ------------ |\n",
    "| WWWW                  | 0                        | 0                                                | 0            |\n",
    "| BWWW                  | .25                      | 3                                                | .15          |\n",
    "| BBWW                  | .5                       | 8                                                | .4           |\n",
    "| BBBW                  | .75                      | 9                                                | .45          |\n",
    "| BBBB                  | 1                        | 0                                                | 0            |"
   ]
  },
  {
   "cell_type": "code",
   "execution_count": 2,
   "id": "25822c7d",
   "metadata": {},
   "outputs": [
    {
     "data": {
      "text/html": [
       "<style>\n",
       ".list-inline {list-style: none; margin:0; padding: 0}\n",
       ".list-inline>li {display: inline-block}\n",
       ".list-inline>li:not(:last-child)::after {content: \"\\00b7\"; padding: 0 .5ex}\n",
       "</style>\n",
       "<ol class=list-inline><li>0</li><li>0.15</li><li>0.4</li><li>0.45</li><li>0</li></ol>\n"
      ],
      "text/latex": [
       "\\begin{enumerate*}\n",
       "\\item 0\n",
       "\\item 0.15\n",
       "\\item 0.4\n",
       "\\item 0.45\n",
       "\\item 0\n",
       "\\end{enumerate*}\n"
      ],
      "text/markdown": [
       "1. 0\n",
       "2. 0.15\n",
       "3. 0.4\n",
       "4. 0.45\n",
       "5. 0\n",
       "\n",
       "\n"
      ],
      "text/plain": [
       "[1] 0.00 0.15 0.40 0.45 0.00"
      ]
     },
     "metadata": {},
     "output_type": "display_data"
    }
   ],
   "source": [
    "# 0, 3, 8, 9, 0 are the priors, \n",
    "# the number of ways each of the 5 conjectures of combinations of 4 blue or white marbles\n",
    "# All conjectures are: WWWW, BWWW, BBWW, BBBW, BBBB\n",
    "# can produce the sequence Blue, White, Blue\n",
    "ways <- c(0, 3, 8, 9, 0)\n",
    "ways / sum(ways)"
   ]
  },
  {
   "cell_type": "markdown",
   "id": "9e3bbb79",
   "metadata": {},
   "source": [
    "## Key Vocabulary\n",
    "- Unobserved variables are usually called `parameters`. But while `p` itself is unobserved, we can infer it from the other variables.\n",
    "- A conjectured proportion of blue marbles, `p`, is usually called the `parameter` value. It's a way of indexing possible explanations of the data\n",
    "- The relative number of ways that a value `p` can produce the data is usually called a `likelihood`. It is derived by enumerating all the possible data sequences that could have happened and elminating those sequences inconsistent/impossible with the data observed.\n",
    "- The prior plausability of any specific `p` is usually called the `prior probability`\n",
    "- The new, updated plausability of any specific `p` is usually called the `posterior probability`\n",
    "\n",
    "## Counting is Key\n",
    "Consider three different kinds of things we counted in the previous sections.\n",
    "1. The number of ways each conjecture could produce an observation\n",
    "2. The accumulated number of ways each conjecture could produce the entire data.\n",
    "3. The initial plausibility of each conjectured cause of the data"
   ]
  },
  {
   "cell_type": "markdown",
   "id": "546bb913",
   "metadata": {},
   "source": [
    "### With the Water or Land Proportion of the Earth Problem\n",
    "- In this case `p` is the proportion of land to earth. `p` is the unobserved information (the parameter). We can infer `p` from other variables.\n",
    "- We'll call the count of land L and the count of water W\n",
    "- In $N = L + W$ the $N$ is the total number of counts of all observations\n",
    "\n",
    "> Remember, the goal is count all the ways the data could arise, given the assumptions."
   ]
  },
  {
   "cell_type": "markdown",
   "id": "0ad9a31e",
   "metadata": {},
   "source": [
    "$$Pr(W,L|P) = \\frac{(W + L)!}{W!L!}p^W (1 - p)^L$$\n",
    "\n",
    "\n",
    "> Read as: The counts of “water” W and “land’ L are distributed binomially, with prob- ability p of “water” on each toss."
   ]
  },
  {
   "cell_type": "code",
   "execution_count": 2,
   "id": "0ec71523",
   "metadata": {},
   "outputs": [
    {
     "data": {
      "text/html": [
       "0.1640625"
      ],
      "text/latex": [
       "0.1640625"
      ],
      "text/markdown": [
       "0.1640625"
      ],
      "text/plain": [
       "[1] 0.1640625"
      ]
     },
     "metadata": {},
     "output_type": "display_data"
    }
   ],
   "source": [
    "# So if we have a count of 9 and 6 were W\n",
    "# This number is the relative number of ways to get six water, holding p at 0.5 and N = W + L at nine. \n",
    "dbinom(6, size=9, prob=0.5)"
   ]
  },
  {
   "cell_type": "code",
   "execution_count": 14,
   "id": "bd4c245f",
   "metadata": {},
   "outputs": [
    {
     "name": "stdout",
     "output_type": "stream",
     "text": [
      "[1] 0\n",
      "[1] 1.125305e-06\n",
      "[1] 6.1236e-05\n",
      "[1] 0.0005876025\n",
      "[1] 0.002752512\n",
      "[1] 0.008651733\n",
      "[1] 0.02100395\n",
      "[1] 0.04240603\n",
      "[1] 0.07431782\n",
      "[1] 0.1160493\n",
      "[1] 0.1640625\n",
      "[1] 0.2118815\n",
      "[1] 0.2508227\n",
      "[1] 0.2716211\n",
      "[1] 0.2668279\n",
      "[1] 0.2335968\n",
      "[1] 0.1761608\n",
      "[1] 0.1069219\n",
      "[1] 0.04464104\n",
      "[1] 0.007718465\n",
      "[1] 0\n"
     ]
    }
   ],
   "source": [
    "for (p in seq(from=0, to=1, by=.05)) {\n",
    "    print(dbinom(6, size=9, prob=p))\n",
    "}"
   ]
  },
  {
   "cell_type": "markdown",
   "id": "f9dba57a",
   "metadata": {},
   "source": [
    "## Unobserved variables \n",
    "The distributions we assign to the observed variables typically have their own variables. In the binomial above, there is p, the probability of sampling water. Since p is not observed, we usually call it a parameter. Even though we cannot observe p, we still have to define it.\n",
    "\n",
    "In statistical modeling, many of the most common questions we ask about data are answered directly by parameters:\n",
    "- What is the average difference between treatment groups?\n",
    "- How strong is the association between a treatment and an outcome?\n",
    "- Does the effect of the treatment depend upon a covariate?\n",
    "- How much variation is there among groups?\n",
    "\n",
    "For every parameter you intend your Bayesian machine to consider, you must provide a distribution of prior plausibility, its prior. \n",
    "\n",
    "$W ∼ Binomial(N, p)$ where N = W + L\n",
    "\n",
    "And the unobserved parameter p similarly gets:\n",
    "\n",
    "$p ∼ Uniform(0, 1)$\n",
    "\n",
    "meaning `p` has a uniform, flat, prior over the entire possible range from 0 to 1.\n",
    "\n",
    "A re-expression of the garden of forking-data, a derivation of Bayes's Theorum\n",
    "$$ Pr(W,L,p) = Pr(W,L|p) * Pr(p)$$\n",
    "\n",
    "also\n",
    "\n",
    "$$Pr(W,L,p) = Pr(p|W,L) * Pr(W,L)$$\n",
    "\n",
    "$$ Posterior = \\frac{Probability of the data * Prior}{Average Probability of the data}$$"
   ]
  },
  {
   "cell_type": "markdown",
   "id": "706066d2",
   "metadata": {},
   "source": [
    "## The key lesson is that the posterior is proportional to the product of the prior and the probability of the data."
   ]
  },
  {
   "cell_type": "code",
   "execution_count": null,
   "id": "0e1e8b63",
   "metadata": {},
   "outputs": [],
   "source": []
  }
 ],
 "metadata": {
  "kernelspec": {
   "display_name": "R",
   "language": "R",
   "name": "ir"
  },
  "language_info": {
   "codemirror_mode": "r",
   "file_extension": ".r",
   "mimetype": "text/x-r-source",
   "name": "R",
   "pygments_lexer": "r",
   "version": "4.2.1"
  }
 },
 "nbformat": 4,
 "nbformat_minor": 5
}
