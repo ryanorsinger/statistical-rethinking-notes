{
 "cells": [
  {
   "cell_type": "markdown",
   "id": "720435f5",
   "metadata": {},
   "source": [
    "# Chapter 2\n",
    "\n",
    "## Map vs. Terrain\n",
    "- The model is the map. Even a fabulous map ain't ever the terrain. The terrain is reality.\n",
    "\n",
    "## Counting Possibilities\n",
    "- Count possiblities for a given conjecture (or all conjectures)\n",
    "- For-each conjecture, count the ways to produce the observed data (this becomes the `prior counts`)\n",
    "- For-each new observation, count the ways to produce and multiply the ways to produce by the prior counts\n",
    "\n",
    "This updating approach is asserting that:\n",
    "1. When we have previous information suggestiong there are $W_{prior}$ ways for a conjecture to produce a previous observation $D_{prior}$ and\n",
    "2. We acquire new observations $D_{new}$ that the same conjecture can produce in $W_{new}$ ways, then\n",
    "3. The number of ways the conjecture can account for both $D_{prior}$ and $D_{new}$ is the product $W_{prior} * W_{new}$\n",
    "\n",
    "Plausability of $p$ after $D_{new}$ = (ways $p$ can produce $D_{new}$ * prior plausability $p$) / sum of products\n"
   ]
  },
  {
   "cell_type": "markdown",
   "id": "e13d8cc6",
   "metadata": {},
   "source": [
    "> Say we see Blue, White, then Blue from a bag of 4 marbles of blue or white, but we don't know the distribution.\n",
    "\n",
    "\n",
    "| Conjecture | Ways to produce Blue, White, Blue |\n",
    "| ---------- | --------------------------------- |\n",
    "| WWWW       | 0                                 |\n",
    "| BWWW       | 3                                 |\n",
    "| BBWW       | 8                                 |\n",
    "| BBBW       | 9                                 |\n",
    "| BBBB       | 0                                 |\n",
    "\n",
    "Becomes\n",
    "\n",
    "| Possible Combinations | p, which is p(blue) here | Ways to produce data we see ( Blue, White, Blue) | Plausability |\n",
    "| --------------------- | ------------------------ | ------------------------------------------------ | ------------ |\n",
    "| WWWW                  | 0                        | 0                                                | 0            |\n",
    "| BWWW                  | .25                      | 3                                                | .15          |\n",
    "| BBWW                  | .5                       | 8                                                | .4           |\n",
    "| BBBW                  | .75                      | 9                                                | .45          |\n",
    "| BBBB                  | 1                        | 0                                                | 0            |"
   ]
  },
  {
   "cell_type": "code",
   "execution_count": 1,
   "id": "25822c7d",
   "metadata": {},
   "outputs": [
    {
     "data": {
      "text/html": [
       "<style>\n",
       ".list-inline {list-style: none; margin:0; padding: 0}\n",
       ".list-inline>li {display: inline-block}\n",
       ".list-inline>li:not(:last-child)::after {content: \"\\00b7\"; padding: 0 .5ex}\n",
       "</style>\n",
       "<ol class=list-inline><li>0</li><li>0.15</li><li>0.4</li><li>0.45</li><li>0</li></ol>\n"
      ],
      "text/latex": [
       "\\begin{enumerate*}\n",
       "\\item 0\n",
       "\\item 0.15\n",
       "\\item 0.4\n",
       "\\item 0.45\n",
       "\\item 0\n",
       "\\end{enumerate*}\n"
      ],
      "text/markdown": [
       "1. 0\n",
       "2. 0.15\n",
       "3. 0.4\n",
       "4. 0.45\n",
       "5. 0\n",
       "\n",
       "\n"
      ],
      "text/plain": [
       "[1] 0.00 0.15 0.40 0.45 0.00"
      ]
     },
     "metadata": {},
     "output_type": "display_data"
    }
   ],
   "source": [
    "# 0, 3, 8, 9, 0 are the priors, \n",
    "# the number of ways each of the 5 conjectures of combinations of 4 blue or white marbles\n",
    "# All conjectures are: WWWW, BWWW, BBWW, BBBW, BBBB\n",
    "# can produce the sequence Blue, White, Blue\n",
    "ways <- c(0, 3, 8, 9, 0)\n",
    "ways / sum(ways)"
   ]
  },
  {
   "cell_type": "markdown",
   "id": "9e3bbb79",
   "metadata": {},
   "source": [
    "## Key Vocabulary\n",
    "- Unobserved variables are usually called `parameters`. But while `p` itself is unobserved, we can infer it from the other variables.\n",
    "- A conjectured proportion of blue marbles, `p`, is usually called the `parameter` value. It's a way of indexing possible explanations of the data\n",
    "- The relative number of ways that a value `p` can produce the data is usually called a `likelihood`. It is derived by enumerating all the possible data sequences that could have happened and elminating those sequences inconsistent/impossible with the data observed.\n",
    "- The prior plausability of any specific `p` is usually called the `prior probability`\n",
    "- The new, updated plausability of any specific `p` is usually called the `posterior probability`\n",
    "\n",
    "## Counting is Key\n",
    "Consider three different kinds of things we counted in the previous sections.\n",
    "1. The number of ways each conjecture could produce an observation\n",
    "2. The accumulated number of ways each conjecture could produce the entire data.\n",
    "3. The initial plausibility of each conjectured cause of the data"
   ]
  },
  {
   "cell_type": "markdown",
   "id": "546bb913",
   "metadata": {},
   "source": [
    "### With the Water or Land Proportion of the Earth Problem\n",
    "- In this case `p` is the proportion of land to earth. `p` is the unobserved information (the parameter). We can infer `p` from other variables.\n",
    "- We'll call the count of land L and the count of water W\n",
    "- In $N = L + W$ the $N$ is the total number of counts of all observations\n",
    "\n",
    "> Remember, the goal is count all the ways the data could arise, given the assumptions."
   ]
  },
  {
   "cell_type": "markdown",
   "id": "0ad9a31e",
   "metadata": {},
   "source": [
    "$$Pr(W,L|P) = \\frac{(W + L)!}{W!L!}p^W (1 - p)^L$$\n",
    "\n",
    "\n",
    "> Read as: The counts of “water” W and “land’ L are distributed binomially, with prob- ability p of “water” on each toss."
   ]
  },
  {
   "cell_type": "code",
   "execution_count": 2,
   "id": "0ec71523",
   "metadata": {},
   "outputs": [
    {
     "data": {
      "text/html": [
       "0.1640625"
      ],
      "text/latex": [
       "0.1640625"
      ],
      "text/markdown": [
       "0.1640625"
      ],
      "text/plain": [
       "[1] 0.1640625"
      ]
     },
     "metadata": {},
     "output_type": "display_data"
    }
   ],
   "source": [
    "# So if we have a count of 9 and 6 were W\n",
    "# This number is the relative number of ways to get six water, holding p at 0.5 and N = W + L at nine. \n",
    "dbinom(6, size=9, prob=0.5)"
   ]
  },
  {
   "cell_type": "code",
   "execution_count": 3,
   "id": "bd4c245f",
   "metadata": {},
   "outputs": [
    {
     "name": "stdout",
     "output_type": "stream",
     "text": [
      "[1] 0\n",
      "[1] 1.125305e-06\n",
      "[1] 6.1236e-05\n",
      "[1] 0.0005876025\n",
      "[1] 0.002752512\n",
      "[1] 0.008651733\n",
      "[1] 0.02100395\n",
      "[1] 0.04240603\n",
      "[1] 0.07431782\n",
      "[1] 0.1160493\n",
      "[1] 0.1640625\n",
      "[1] 0.2118815\n",
      "[1] 0.2508227\n",
      "[1] 0.2716211\n",
      "[1] 0.2668279\n",
      "[1] 0.2335968\n",
      "[1] 0.1761608\n",
      "[1] 0.1069219\n",
      "[1] 0.04464104\n",
      "[1] 0.007718465\n",
      "[1] 0\n"
     ]
    }
   ],
   "source": [
    "for (p in seq(from=0, to=1, by=.05)) {\n",
    "    print(dbinom(6, size=9, prob=p))\n",
    "}"
   ]
  },
  {
   "cell_type": "markdown",
   "id": "f9dba57a",
   "metadata": {},
   "source": [
    "## Unobserved variables \n",
    "The distributions we assign to the observed variables typically have their own variables. In the binomial above, there is p, the probability of sampling water. Since p is not observed, we usually call it a parameter. Even though we cannot observe p, we still have to define it.\n",
    "\n",
    "In statistical modeling, many of the most common questions we ask about data are answered directly by parameters:\n",
    "- What is the average difference between treatment groups?\n",
    "- How strong is the association between a treatment and an outcome?\n",
    "- Does the effect of the treatment depend upon a covariate?\n",
    "- How much variation is there among groups?\n",
    "\n",
    "For every parameter you intend your Bayesian machine to consider, you must provide a distribution of prior plausibility, its prior. \n",
    "\n",
    "$W ∼ Binomial(N, p)$ where N = W + L\n",
    "\n",
    "And the unobserved parameter p similarly gets:\n",
    "\n",
    "$p ∼ Uniform(0, 1)$\n",
    "\n",
    "meaning `p` has a uniform, flat, prior over the entire possible range from 0 to 1.\n",
    "\n",
    "A re-expression of the garden of forking-data, a derivation of Bayes's Theorum\n",
    "$$ Pr(W,L,p) = Pr(W,L|p) * Pr(p)$$\n",
    "\n",
    "also\n",
    "\n",
    "$$Pr(W,L,p) = Pr(p|W,L) * Pr(W,L)$$\n",
    "\n",
    "$$ Posterior = \\frac{Probability of the data * Prior}{Average Probability of the data}$$"
   ]
  },
  {
   "cell_type": "markdown",
   "id": "706066d2",
   "metadata": {},
   "source": [
    "## The key lesson is that the posterior is proportional to the product of the prior and the probability of the data.\n",
    "\n",
    "3 different conditioning engines, numerical techniques for computing posterior distributions\n",
    "1. Grid approximation\n",
    "2. Quadratic approximation\n",
    "3. Markov chain Monte Carlo (MCMC)\n",
    "- There are other engines and new ones invented all the time, these are what are in the text\n",
    "\n",
    "Generally, a model is a composit of a prior and a likelihood. We should also consider how a model is fit to the data as part of the model, too."
   ]
  },
  {
   "cell_type": "markdown",
   "id": "0a14b5ce",
   "metadata": {},
   "source": [
    "<hr>\n",
    "\n",
    "# Grid Approximpation\n",
    "- While most parameters are continuous, we can achieve excellent approximation by considering only a finite grid of parameter values.\n",
    "\n",
    "1. Define the grid. You decide how many points to use in estimating the posterior and then you make a list of the parameter values on the grid.\n",
    "2. Compute the value of the prior at each parameter value on the grid.\n",
    "3. Compute the likelihood at each parameter value.\n",
    "4. Compute the unstandardized posterior at each parameter value, by multiplying the prior by the likelihood\n",
    "5. Standardize the posterior by dividing each value by the sum of all values."
   ]
  },
  {
   "cell_type": "code",
   "execution_count": 4,
   "id": "7ae91477",
   "metadata": {},
   "outputs": [],
   "source": [
    "# define the grid\n",
    "n = 80\n",
    "\n",
    "p_grid <- seq(from=0, to=1, length.out=n)\n",
    "\n",
    "# define the prior\n",
    "# In this case, it's a uniform prior (probably for ease of getting started)\n",
    "prior <- rep(1, n)\n",
    "\n",
    "# Compute the likelihood \n",
    "likelihood <- dbinom(6, size=9, prob=p_grid)\n",
    "\n",
    "# Compute the product of the likelihood and the prior\n",
    "unstd.posterior <- likelihood * prior\n",
    "\n",
    "# Standardize the posterior, so it sums to 1\n",
    "posterior <- unstd.posterior / sum(unstd.posterior)"
   ]
  },
  {
   "cell_type": "code",
   "execution_count": 5,
   "id": "3672637d",
   "metadata": {},
   "outputs": [
    {
     "data": {
      "image/png": "[encoded data removed]",
      "text/plain": [
       "plot without title"
      ]
     },
     "metadata": {
      "image/png": {
       "height": 420,
       "width": 420
      }
     },
     "output_type": "display_data"
    }
   ],
   "source": [
    "plot(p_grid, posterior, type=\"b\", xlab=\"p(water)\", ylab=\"posterior porbability\")\n",
    "mtext(paste(n, \"points\"))"
   ]
  },
  {
   "cell_type": "code",
   "execution_count": 6,
   "id": "ad4a605d",
   "metadata": {},
   "outputs": [
    {
     "data": {
      "text/html": [
       "<style>\n",
       ".list-inline {list-style: none; margin:0; padding: 0}\n",
       ".list-inline>li {display: inline-block}\n",
       ".list-inline>li:not(:last-child)::after {content: \"\\00b7\"; padding: 0 .5ex}\n",
       "</style>\n",
       "<ol class=list-inline><li>TRUE</li><li>TRUE</li><li>TRUE</li><li>TRUE</li><li>TRUE</li><li>TRUE</li><li>TRUE</li><li>TRUE</li><li>TRUE</li><li>TRUE</li><li>TRUE</li><li>TRUE</li><li>TRUE</li><li>TRUE</li><li>TRUE</li><li>TRUE</li><li>TRUE</li><li>TRUE</li><li>TRUE</li><li>TRUE</li><li>TRUE</li><li>TRUE</li><li>TRUE</li><li>TRUE</li><li>TRUE</li><li>TRUE</li><li>TRUE</li><li>TRUE</li><li>TRUE</li><li>TRUE</li><li>TRUE</li><li>TRUE</li><li>TRUE</li><li>TRUE</li><li>TRUE</li><li>TRUE</li><li>TRUE</li><li>TRUE</li><li>TRUE</li><li>TRUE</li><li>FALSE</li><li>FALSE</li><li>FALSE</li><li>FALSE</li><li>FALSE</li><li>FALSE</li><li>FALSE</li><li>FALSE</li><li>FALSE</li><li>FALSE</li><li>FALSE</li><li>FALSE</li><li>FALSE</li><li>FALSE</li><li>FALSE</li><li>FALSE</li><li>FALSE</li><li>FALSE</li><li>FALSE</li><li>FALSE</li><li>FALSE</li><li>FALSE</li><li>FALSE</li><li>FALSE</li><li>FALSE</li><li>FALSE</li><li>FALSE</li><li>FALSE</li><li>FALSE</li><li>FALSE</li><li>FALSE</li><li>FALSE</li><li>FALSE</li><li>FALSE</li><li>FALSE</li><li>FALSE</li><li>FALSE</li><li>FALSE</li><li>FALSE</li><li>FALSE</li></ol>\n"
      ],
      "text/latex": [
       "\\begin{enumerate*}\n",
       "\\item TRUE\n",
       "\\item TRUE\n",
       "\\item TRUE\n",
       "\\item TRUE\n",
       "\\item TRUE\n",
       "\\item TRUE\n",
       "\\item TRUE\n",
       "\\item TRUE\n",
       "\\item TRUE\n",
       "\\item TRUE\n",
       "\\item TRUE\n",
       "\\item TRUE\n",
       "\\item TRUE\n",
       "\\item TRUE\n",
       "\\item TRUE\n",
       "\\item TRUE\n",
       "\\item TRUE\n",
       "\\item TRUE\n",
       "\\item TRUE\n",
       "\\item TRUE\n",
       "\\item TRUE\n",
       "\\item TRUE\n",
       "\\item TRUE\n",
       "\\item TRUE\n",
       "\\item TRUE\n",
       "\\item TRUE\n",
       "\\item TRUE\n",
       "\\item TRUE\n",
       "\\item TRUE\n",
       "\\item TRUE\n",
       "\\item TRUE\n",
       "\\item TRUE\n",
       "\\item TRUE\n",
       "\\item TRUE\n",
       "\\item TRUE\n",
       "\\item TRUE\n",
       "\\item TRUE\n",
       "\\item TRUE\n",
       "\\item TRUE\n",
       "\\item TRUE\n",
       "\\item FALSE\n",
       "\\item FALSE\n",
       "\\item FALSE\n",
       "\\item FALSE\n",
       "\\item FALSE\n",
       "\\item FALSE\n",
       "\\item FALSE\n",
       "\\item FALSE\n",
       "\\item FALSE\n",
       "\\item FALSE\n",
       "\\item FALSE\n",
       "\\item FALSE\n",
       "\\item FALSE\n",
       "\\item FALSE\n",
       "\\item FALSE\n",
       "\\item FALSE\n",
       "\\item FALSE\n",
       "\\item FALSE\n",
       "\\item FALSE\n",
       "\\item FALSE\n",
       "\\item FALSE\n",
       "\\item FALSE\n",
       "\\item FALSE\n",
       "\\item FALSE\n",
       "\\item FALSE\n",
       "\\item FALSE\n",
       "\\item FALSE\n",
       "\\item FALSE\n",
       "\\item FALSE\n",
       "\\item FALSE\n",
       "\\item FALSE\n",
       "\\item FALSE\n",
       "\\item FALSE\n",
       "\\item FALSE\n",
       "\\item FALSE\n",
       "\\item FALSE\n",
       "\\item FALSE\n",
       "\\item FALSE\n",
       "\\item FALSE\n",
       "\\item FALSE\n",
       "\\end{enumerate*}\n"
      ],
      "text/markdown": [
       "1. TRUE\n",
       "2. TRUE\n",
       "3. TRUE\n",
       "4. TRUE\n",
       "5. TRUE\n",
       "6. TRUE\n",
       "7. TRUE\n",
       "8. TRUE\n",
       "9. TRUE\n",
       "10. TRUE\n",
       "11. TRUE\n",
       "12. TRUE\n",
       "13. TRUE\n",
       "14. TRUE\n",
       "15. TRUE\n",
       "16. TRUE\n",
       "17. TRUE\n",
       "18. TRUE\n",
       "19. TRUE\n",
       "20. TRUE\n",
       "21. TRUE\n",
       "22. TRUE\n",
       "23. TRUE\n",
       "24. TRUE\n",
       "25. TRUE\n",
       "26. TRUE\n",
       "27. TRUE\n",
       "28. TRUE\n",
       "29. TRUE\n",
       "30. TRUE\n",
       "31. TRUE\n",
       "32. TRUE\n",
       "33. TRUE\n",
       "34. TRUE\n",
       "35. TRUE\n",
       "36. TRUE\n",
       "37. TRUE\n",
       "38. TRUE\n",
       "39. TRUE\n",
       "40. TRUE\n",
       "41. FALSE\n",
       "42. FALSE\n",
       "43. FALSE\n",
       "44. FALSE\n",
       "45. FALSE\n",
       "46. FALSE\n",
       "47. FALSE\n",
       "48. FALSE\n",
       "49. FALSE\n",
       "50. FALSE\n",
       "51. FALSE\n",
       "52. FALSE\n",
       "53. FALSE\n",
       "54. FALSE\n",
       "55. FALSE\n",
       "56. FALSE\n",
       "57. FALSE\n",
       "58. FALSE\n",
       "59. FALSE\n",
       "60. FALSE\n",
       "61. FALSE\n",
       "62. FALSE\n",
       "63. FALSE\n",
       "64. FALSE\n",
       "65. FALSE\n",
       "66. FALSE\n",
       "67. FALSE\n",
       "68. FALSE\n",
       "69. FALSE\n",
       "70. FALSE\n",
       "71. FALSE\n",
       "72. FALSE\n",
       "73. FALSE\n",
       "74. FALSE\n",
       "75. FALSE\n",
       "76. FALSE\n",
       "77. FALSE\n",
       "78. FALSE\n",
       "79. FALSE\n",
       "80. FALSE\n",
       "\n",
       "\n"
      ],
      "text/plain": [
       " [1]  TRUE  TRUE  TRUE  TRUE  TRUE  TRUE  TRUE  TRUE  TRUE  TRUE  TRUE  TRUE\n",
       "[13]  TRUE  TRUE  TRUE  TRUE  TRUE  TRUE  TRUE  TRUE  TRUE  TRUE  TRUE  TRUE\n",
       "[25]  TRUE  TRUE  TRUE  TRUE  TRUE  TRUE  TRUE  TRUE  TRUE  TRUE  TRUE  TRUE\n",
       "[37]  TRUE  TRUE  TRUE  TRUE FALSE FALSE FALSE FALSE FALSE FALSE FALSE FALSE\n",
       "[49] FALSE FALSE FALSE FALSE FALSE FALSE FALSE FALSE FALSE FALSE FALSE FALSE\n",
       "[61] FALSE FALSE FALSE FALSE FALSE FALSE FALSE FALSE FALSE FALSE FALSE FALSE\n",
       "[73] FALSE FALSE FALSE FALSE FALSE FALSE FALSE FALSE"
      ]
     },
     "metadata": {},
     "output_type": "display_data"
    }
   ],
   "source": [
    "prior <- ifelse(p_grid < 0.5 , 0 , 1)\n",
    "prior <= exp( -5 * abs( p_grid - 0.5))"
   ]
  },
  {
   "cell_type": "code",
   "execution_count": null,
   "id": "ed22de2d",
   "metadata": {},
   "outputs": [],
   "source": []
  }
 ],
 "metadata": {
  "kernelspec": {
   "display_name": "R",
   "language": "R",
   "name": "ir"
  },
  "language_info": {
   "codemirror_mode": "r",
   "file_extension": ".r",
   "mimetype": "text/x-r-source",
   "name": "R",
   "pygments_lexer": "r",
   "version": "4.2.1"
  }
 },
 "nbformat": 4,
 "nbformat_minor": 5
}
