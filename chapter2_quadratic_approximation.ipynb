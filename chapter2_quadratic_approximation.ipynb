{
 "cells": [
  {
   "cell_type": "markdown",
   "id": "c56bac46",
   "metadata": {},
   "source": [
    "# Quadratic Approximation\n",
    "- We'll ride with grid approximation for a while, but it gets computationally intensive the higher the number of approximations in the grid. For 2 parameters approximated by 100 values each, we have $100^2$ values to compute. For 10 parameters with 100 values to compute, we get billions of values. And it's normal to have models with hundreds or thousands of parameters. Grid approximation is initially helpful but scales poorly.\n",
    "- With Quadratic Approximation, the region near the peak of the posterior distribution will be nearly Gaussian or \"normal\" in shape. This means we can approximate by a gaussian distribution\n",
    "- A gaussian approximation is called \"quadratic approximation\" b/c of the log(Gaussian distribution) forms a parabola and a parabola is a quadratic function. So this approximation represents any log-posterior with a parabola\n",
    "- We'll use quadratic approximation for much of the first half of the book.\n",
    "- It's often very close to correct if not exactly correct."
   ]
  },
  {
   "cell_type": "code",
   "execution_count": 4,
   "id": "c83c9792",
   "metadata": {},
   "outputs": [
    {
     "ename": "ERROR",
     "evalue": "Error in library(rethinking): there is no package called ‘rethinking’\n",
     "output_type": "error",
     "traceback": [
      "Error in library(rethinking): there is no package called ‘rethinking’\nTraceback:\n",
      "1. library(rethinking)"
     ]
    }
   ],
   "source": [
    "library(rethinking)\n",
    "globe.qa <- quap(\n",
    "    alist(\n",
    "        W ~ dbinom( W+L, p) , # binomial likelihood\n",
    "        p ~ dunif(0, 1)       # uniform prior (for now, maybe something less blunt later?)\n",
    "        \n",
    "    ) , \n",
    "    data = list(W=6, L=3)\n",
    ")\n",
    "\n",
    "# display summary of quadratic approximation\n",
    "precis( globe.qa )"
   ]
  },
  {
   "cell_type": "code",
   "execution_count": null,
   "id": "cc55c7c3",
   "metadata": {},
   "outputs": [],
   "source": []
  }
 ],
 "metadata": {
  "kernelspec": {
   "display_name": "R",
   "language": "R",
   "name": "ir"
  },
  "language_info": {
   "codemirror_mode": "r",
   "file_extension": ".r",
   "mimetype": "text/x-r-source",
   "name": "R",
   "pygments_lexer": "r",
   "version": "4.2.1"
  }
 },
 "nbformat": 4,
 "nbformat_minor": 5
}
